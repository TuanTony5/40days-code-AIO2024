{
 "cells": [
  {
   "cell_type": "code",
   "execution_count": 53,
   "metadata": {},
   "outputs": [
    {
     "name": "stdout",
     "output_type": "stream",
     "text": [
      "266 96 32\n"
     ]
    }
   ],
   "source": [
    "import random\n",
    "def random_number_with_condition(total):\n",
    "    random.seed(0)\n",
    "    count = 0\n",
    "    value = total - 1\n",
    "    while value != total:\n",
    "        value = random.randint(1,20) + random.randint(1,20)\n",
    "        count +=1\n",
    "    return count\n",
    "\n",
    "print(random_number_with_condition(40),\n",
    "      random_number_with_condition(35),\n",
    "random_number_with_condition(20))"
   ]
  },
  {
   "cell_type": "code",
   "execution_count": 56,
   "metadata": {},
   "outputs": [
    {
     "name": "stdout",
     "output_type": "stream",
     "text": [
      "105 102\n"
     ]
    }
   ],
   "source": [
    "def find_divisible_number(a):\n",
    "    \"\"\"\n",
    "    Smallest number > 100 that % a == 0\n",
    "    \"\"\"\n",
    "    b = 101\n",
    "    r = b%a\n",
    "    b = b + (a-r)\n",
    "    return b\n",
    "\n",
    "print(find_divisible_number(5),\n",
    "find_divisible_number(17))\n"
   ]
  },
  {
   "cell_type": "code",
   "execution_count": 60,
   "metadata": {},
   "outputs": [
    {
     "data": {
      "text/plain": [
       "1.7320508102501981"
      ]
     },
     "execution_count": 60,
     "metadata": {},
     "output_type": "execute_result"
    }
   ],
   "source": [
    "def find_squared_root(a):\n",
    "    # f(x) = x**2 - a\n",
    "    #  Find root of f(x)\n",
    "    epsilon = 0.001\n",
    "    x0 = a\n",
    "    x1 = a + 10 * epsilon\n",
    "    while abs(x1 - x0) > epsilon:\n",
    "        x0 = x1\n",
    "        grad = 2 * x0\n",
    "        fx = x0**2 - a\n",
    "        x1 = x0 - (fx / grad)\n",
    "    return x1\n",
    "\n",
    "\n",
    "find_squared_root(2)\n",
    "find_squared_root(4)\n",
    "find_squared_root(3)"
   ]
  }
 ],
 "metadata": {
  "kernelspec": {
   "display_name": "aio2024_env",
   "language": "python",
   "name": "python3"
  },
  "language_info": {
   "codemirror_mode": {
    "name": "ipython",
    "version": 3
   },
   "file_extension": ".py",
   "mimetype": "text/x-python",
   "name": "python",
   "nbconvert_exporter": "python",
   "pygments_lexer": "ipython3",
   "version": "3.10.14"
  }
 },
 "nbformat": 4,
 "nbformat_minor": 2
}
