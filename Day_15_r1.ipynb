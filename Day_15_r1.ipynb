{
 "cells": [
  {
   "cell_type": "code",
   "execution_count": 3,
   "metadata": {},
   "outputs": [
    {
     "data": {
      "text/plain": [
       "[2, 4, 6]"
      ]
     },
     "execution_count": 3,
     "metadata": {},
     "output_type": "execute_result"
    }
   ],
   "source": [
    "lst_data = [1, 1.1, None, 1.4, None, 1.5, None, 2]\n",
    "index_none = []\n",
    "for i, v in enumerate(lst_data):\n",
    "    if v == None:\n",
    "        index_none.append(i)\n",
    "index_none"
   ]
  },
  {
   "cell_type": "code",
   "execution_count": null,
   "metadata": {},
   "outputs": [],
   "source": [
    "def near_up(data, index):\n",
    "    if index == len(data):\n",
    "        return None\n",
    "    if data[index + 1] != None:\n",
    "        return (data[index + 1], index + 1)\n",
    "    return near_up(data, index + 1)\n",
    "\n",
    "\n",
    "def near_down(data, index):\n",
    "    if index == -1:\n",
    "        return None\n",
    "    if data[index - 1] != None:\n",
    "        return (data[index - 1], index - 1)\n",
    "    return near_down(data, index - 1)\n",
    "\n",
    "fill_values = []\n",
    "for i in index_none:\n",
    "    if near_down(lst_data,i-1) != None:\n"
   ]
  }
 ],
 "metadata": {
  "kernelspec": {
   "display_name": "aio2024_env",
   "language": "python",
   "name": "python3"
  },
  "language_info": {
   "codemirror_mode": {
    "name": "ipython",
    "version": 3
   },
   "file_extension": ".py",
   "mimetype": "text/x-python",
   "name": "python",
   "nbconvert_exporter": "python",
   "pygments_lexer": "ipython3",
   "version": "3.10.14"
  }
 },
 "nbformat": 4,
 "nbformat_minor": 2
}
