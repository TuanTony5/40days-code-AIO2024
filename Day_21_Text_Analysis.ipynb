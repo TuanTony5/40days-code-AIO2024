{
 "cells": [
  {
   "cell_type": "code",
   "execution_count": 12,
   "metadata": {},
   "outputs": [
    {
     "name": "stdout",
     "output_type": "stream",
     "text": [
      "he who conquers himself is the mightiest warrior try not to become a man of success but rather become a man of value one man with courage makes a majority one secret of success in life is for a man to be ready for his opportunity when it comes the successful man will profit from his mistakes and try again in a different way a successful man is one who can lay a firm foundation with the bricks others have thrown at him success usually comes to those who are too busy looking for it we cannot solve problems with the kind of thinking we employed when we came up with them just one small positive thought in the morning can change your whole day you can get everything in life you want if you will just help enough other people get what they want\n"
     ]
    }
   ],
   "source": [
    "# Read the data\n",
    "with open(\"data_day_21.txt\", \"r\") as f:\n",
    "    data = f.read()\n",
    "    data = data.replace(\"\\n\", \" \")\n",
    "    data = data.lower()\n",
    "print(data)"
   ]
  },
  {
   "cell_type": "code",
   "execution_count": 22,
   "metadata": {},
   "outputs": [
    {
     "name": "stdout",
     "output_type": "stream",
     "text": [
      "['a', 'again', 'and', 'are', 'at', 'be', 'become', 'bricks', 'busy', 'but', 'came', 'can', 'cannot', 'change', 'comes', 'conquers', 'courage', 'day', 'different', 'employed', 'enough', 'everything', 'firm', 'for', 'foundation', 'from', 'get', 'have', 'he', 'help', 'him', 'himself', 'his', 'if', 'in', 'is', 'it', 'just', 'kind', 'lay', 'life', 'looking', 'majority', 'makes', 'man', 'mightiest', 'mistakes', 'morning', 'not', 'of', 'one', 'opportunity', 'other', 'others', 'people', 'positive', 'problems', 'profit', 'rather', 'ready', 'secret', 'small', 'solve', 'success', 'successful', 'the', 'them', 'they', 'thinking', 'those', 'thought', 'thrown', 'to', 'too', 'try', 'up', 'usually', 'value', 'want', 'warrior', 'way', 'we', 'what', 'when', 'who', 'whole', 'will', 'with', 'you', 'your']\n"
     ]
    }
   ],
   "source": [
    "distinct_words = set(data.split())\n",
    "distinct_words = list(distinct_words)\n",
    "distinct_words.sort()\n",
    "print(distinct_words)"
   ]
  },
  {
   "cell_type": "code",
   "execution_count": 32,
   "metadata": {},
   "outputs": [
    {
     "name": "stdout",
     "output_type": "stream",
     "text": [
      "{'a': 42, 'again': 1, 'and': 1, 'are': 1, 'at': 4, 'be': 3, 'become': 2, 'bricks': 1, 'busy': 1, 'but': 1, 'came': 1, 'can': 4, 'cannot': 1, 'change': 1, 'comes': 2, 'conquers': 1, 'courage': 1, 'day': 1, 'different': 1, 'employed': 1, 'enough': 1, 'everything': 1, 'firm': 1, 'for': 3, 'foundation': 1, 'from': 1, 'get': 2, 'have': 1, 'he': 14, 'help': 1, 'him': 2, 'himself': 1, 'his': 2, 'if': 4, 'in': 11, 'is': 6, 'it': 10, 'just': 2, 'kind': 1, 'lay': 1, 'life': 2, 'looking': 1, 'majority': 1, 'makes': 1, 'man': 6, 'mightiest': 1, 'mistakes': 1, 'morning': 1, 'not': 2, 'of': 5, 'one': 4, 'opportunity': 1, 'other': 2, 'others': 1, 'people': 1, 'positive': 1, 'problems': 1, 'profit': 1, 'rather': 1, 'ready': 1, 'secret': 1, 'small': 1, 'solve': 1, 'success': 5, 'successful': 2, 'the': 10, 'them': 1, 'they': 1, 'thinking': 1, 'those': 1, 'thought': 1, 'thrown': 1, 'to': 4, 'too': 1, 'try': 2, 'up': 1, 'usually': 1, 'value': 1, 'want': 2, 'warrior': 1, 'way': 1, 'we': 3, 'what': 1, 'when': 2, 'who': 4, 'whole': 1, 'will': 2, 'with': 4, 'you': 4, 'your': 1}\n"
     ]
    }
   ],
   "source": [
    "count_word = dict()\n",
    "for word in distinct_words:\n",
    "    count_word[word] = data.count(word)\n",
    "print(count_word)"
   ]
  }
 ],
 "metadata": {
  "kernelspec": {
   "display_name": "aio2024_env",
   "language": "python",
   "name": "python3"
  },
  "language_info": {
   "codemirror_mode": {
    "name": "ipython",
    "version": 3
   },
   "file_extension": ".py",
   "mimetype": "text/x-python",
   "name": "python",
   "nbconvert_exporter": "python",
   "pygments_lexer": "ipython3",
   "version": "3.10.14"
  }
 },
 "nbformat": 4,
 "nbformat_minor": 2
}
