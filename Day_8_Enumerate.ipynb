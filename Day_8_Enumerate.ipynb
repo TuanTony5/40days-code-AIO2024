{
 "cells": [
  {
   "cell_type": "code",
   "execution_count": 2,
   "metadata": {},
   "outputs": [
    {
     "name": "stdout",
     "output_type": "stream",
     "text": [
      "1. Táo\n",
      "2. Cà rốt\n",
      "3. Sữa\n"
     ]
    }
   ],
   "source": [
    "shop_list = ['Táo','Cà rốt','Sữa']\n",
    "for index,item in enumerate(shop_list,start=1):\n",
    "    print(f'{index}. {item}')"
   ]
  },
  {
   "cell_type": "code",
   "execution_count": 8,
   "metadata": {},
   "outputs": [
    {
     "name": "stdout",
     "output_type": "stream",
     "text": [
      "Sữa was found at [0][2]\n",
      "Táo was found at [1][1]\n",
      "Cà rốt was found at [2][0]\n"
     ]
    }
   ],
   "source": [
    "shop_list_2 = [\n",
    "    [\"Bơ\", \"Pizza\", \"Sữa\"],\n",
    "    [\"Xúc xích\", \"Táo\", \"Kem\"],\n",
    "    [\"Cà rốt\", \"Bánh dâu\", \"Cup Cake\"],\n",
    "]\n",
    "search = [\"Táo\", \"Cà rốt\", \"Sữa\"]\n",
    "for i_index, row in enumerate(shop_list_2):\n",
    "    for j_index, value in enumerate(row):\n",
    "        if value in search:\n",
    "            print(f\"{value} was found at [{i_index}][{j_index}]\")"
   ]
  }
 ],
 "metadata": {
  "kernelspec": {
   "display_name": "aio2024_env",
   "language": "python",
   "name": "python3"
  },
  "language_info": {
   "codemirror_mode": {
    "name": "ipython",
    "version": 3
   },
   "file_extension": ".py",
   "mimetype": "text/x-python",
   "name": "python",
   "nbconvert_exporter": "python",
   "pygments_lexer": "ipython3",
   "version": "3.10.14"
  }
 },
 "nbformat": 4,
 "nbformat_minor": 2
}
