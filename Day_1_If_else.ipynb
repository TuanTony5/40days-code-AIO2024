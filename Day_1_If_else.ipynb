{
  "nbformat": 4,
  "nbformat_minor": 0,
  "metadata": {
    "colab": {
      "provenance": [],
      "gpuType": "T4",
      "authorship_tag": "ABX9TyMpkEUYF8dRRc69T3AV0CXB",
      "include_colab_link": true
    },
    "kernelspec": {
      "name": "python3",
      "display_name": "Python 3"
    },
    "language_info": {
      "name": "python"
    },
    "accelerator": "GPU"
  },
  "cells": [
    {
      "cell_type": "markdown",
      "metadata": {
        "id": "view-in-github",
        "colab_type": "text"
      },
      "source": [
        "<a href=\"https://colab.research.google.com/github/TuanTony5/40days-code-AIO2024/blob/main/Day_1_If_else.ipynb\" target=\"_parent\"><img src=\"https://colab.research.google.com/assets/colab-badge.svg\" alt=\"Open In Colab\"/></a>"
      ]
    },
    {
      "cell_type": "code",
      "execution_count": 16,
      "metadata": {
        "colab": {
          "base_uri": "https://localhost:8080/"
        },
        "id": "cWIeEjJXkqH6",
        "outputId": "6d4e5172-f5aa-4c11-9873-5c702e660095"
      },
      "outputs": [
        {
          "output_type": "stream",
          "name": "stdout",
          "text": [
            "Giáp Thìn\n",
            "Quý Mão\n",
            "Đinh Sửu\n"
          ]
        }
      ],
      "source": [
        "def calculate_can_chi_candidate(year:int):\n",
        "  can_str = 'Canh, Tân, Nhâm, Quý,Giáp, Ất, Bính, Đinh, Mậu, Kỷ'\n",
        "  chi_str = 'Thân, Dậu, Tuất, Hợi,Tý, Sửu, Dần, Mão, Thìn, Tỵ, Ngọ, Mùi'\n",
        "  a = can_str.split(',')\n",
        "  b = chi_str.split(',')\n",
        "  can_list = [i.strip() for i in a]\n",
        "  chi_list = [i.strip() for i in b]\n",
        "\n",
        "  can = year%10\n",
        "  chi = year%12\n",
        "  # print(can_list)\n",
        "\n",
        "  result = can_list[can] + ' ' + chi_list[chi]\n",
        "  print(result)\n",
        "\n",
        "calculate_can_chi_candidate(2024)\n",
        "calculate_can_chi_candidate(2023)\n",
        "calculate_can_chi_candidate(1997)"
      ]
    }
  ]
}