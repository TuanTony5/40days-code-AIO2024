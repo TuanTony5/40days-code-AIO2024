{
 "cells": [
  {
   "cell_type": "code",
   "execution_count": 3,
   "metadata": {},
   "outputs": [
    {
     "data": {
      "text/plain": [
       "['AI', 'môn', 'Toán', 'âm', 'nhạc', 'Tôi', 'thích']"
      ]
     },
     "execution_count": 3,
     "metadata": {},
     "output_type": "execute_result"
    }
   ],
   "source": [
    "corpus = ['Tôi thích môn Toán', 'Tôi thích AI', 'Tôi thích âm nhạc']\n",
    "\n",
    "all_words = ' '.join(corpus)\n",
    "vocabulary = list(set(all_words.split()))\n",
    "vocabulary"
   ]
  },
  {
   "cell_type": "code",
   "execution_count": 8,
   "metadata": {},
   "outputs": [
    {
     "name": "stdout",
     "output_type": "stream",
     "text": [
      "0 AI\n",
      "1 môn\n",
      "2 Toán\n",
      "3 âm\n",
      "4 nhạc\n",
      "5 Tôi\n",
      "6 thích\n"
     ]
    }
   ],
   "source": [
    "for i,v in enumerate(vocabulary):\n",
    "    print(i,v)"
   ]
  },
  {
   "cell_type": "code",
   "execution_count": 26,
   "metadata": {},
   "outputs": [
    {
     "name": "stdout",
     "output_type": "stream",
     "text": [
      "[1, 0, 1, 0, 0, 1, 2]\n"
     ]
    }
   ],
   "source": [
    "sample = 'Tôi thích AI thích Toán'\n",
    "vector = [0]*len(vocabulary)\n",
    "for word in sample.split():\n",
    "    try:\n",
    "        vector[vocabulary.index(word)] +=1\n",
    "    except:\n",
    "        raise Warning(f\"'{word}' is not in the vocabulary word\")\n",
    "        \n",
    "print(vector)"
   ]
  }
 ],
 "metadata": {
  "kernelspec": {
   "display_name": "aio2024_env",
   "language": "python",
   "name": "python3"
  },
  "language_info": {
   "codemirror_mode": {
    "name": "ipython",
    "version": 3
   },
   "file_extension": ".py",
   "mimetype": "text/x-python",
   "name": "python",
   "nbconvert_exporter": "python",
   "pygments_lexer": "ipython3",
   "version": "3.10.14"
  }
 },
 "nbformat": 4,
 "nbformat_minor": 2
}
