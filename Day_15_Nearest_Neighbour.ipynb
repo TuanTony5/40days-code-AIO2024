{
 "cells": [
  {
   "cell_type": "markdown",
   "metadata": {},
   "source": [
    "# Note:\n",
    "Thuật toán này với những trường hợp đặc biệt chưa có sự tối ưu và chính xác\n"
   ]
  },
  {
   "cell_type": "code",
   "execution_count": 28,
   "metadata": {},
   "outputs": [
    {
     "name": "stdout",
     "output_type": "stream",
     "text": [
      "[1, 1.1, 1.1, 1.4, 1.4, 1.5, 1.5, 2]\n",
      "ValueError: [None, None]\n",
      "              No value possible for finding neighbour (All None)\n"
     ]
    }
   ],
   "source": [
    "lst_data = [1, 1.1, None, 1.4, None, 1.5, None, 2]\n",
    "aa = [None,None]\n",
    "\n",
    "\n",
    "def neighbour(data, index):\n",
    "    if data[index] != None:\n",
    "        return data[index]\n",
    "    if neighbour(data, index - 1) != None:\n",
    "        return neighbour(data, index - 1)\n",
    "    if neighbour(data, index + 1) != None:\n",
    "        return neighbour(data, index + 1)\n",
    "    # raise ValueError(\"There are not any possible value\")\n",
    "\n",
    "\n",
    "def fill_none(data):\n",
    "    try:\n",
    "        for ind, val in enumerate(data):\n",
    "            if val == None:\n",
    "                data[ind] = neighbour(data=data, index=ind)\n",
    "        print(data)\n",
    "    except:\n",
    "        print(\n",
    "            \"\"\"ValueError: {}\n",
    "              No value possible for finding neighbour (All None)\"\"\".format(data)\n",
    "        )\n",
    "\n",
    "\n",
    "fill_none(lst_data)\n",
    "fill_none(aa)"
   ]
  },
  {
   "cell_type": "code",
   "execution_count": 30,
   "metadata": {},
   "outputs": [
    {
     "name": "stdout",
     "output_type": "stream",
     "text": [
      "2\n",
      "1\n",
      "1.1\n",
      "1.1\n",
      "1.4\n",
      "1.4\n",
      "1.5\n",
      "1.5\n"
     ]
    }
   ],
   "source": [
    "for i in range(len(lst_data)):\n",
    "    print(lst_data[i-1])"
   ]
  }
 ],
 "metadata": {
  "kernelspec": {
   "display_name": "aio2024_env",
   "language": "python",
   "name": "python3"
  },
  "language_info": {
   "codemirror_mode": {
    "name": "ipython",
    "version": 3
   },
   "file_extension": ".py",
   "mimetype": "text/x-python",
   "name": "python",
   "nbconvert_exporter": "python",
   "pygments_lexer": "ipython3",
   "version": "3.10.14"
  }
 },
 "nbformat": 4,
 "nbformat_minor": 2
}
