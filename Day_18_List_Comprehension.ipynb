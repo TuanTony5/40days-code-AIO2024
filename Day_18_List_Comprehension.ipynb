{
 "cells": [
  {
   "cell_type": "code",
   "execution_count": 3,
   "metadata": {},
   "outputs": [
    {
     "data": {
      "text/plain": [
       "['AI', 'listen', 'music']"
      ]
     },
     "execution_count": 3,
     "metadata": {},
     "output_type": "execute_result"
    }
   ],
   "source": [
    "stop_words = ['I','love','and','to']\n",
    "sen = 'I love AI and listen to music'\n",
    "# output ==> ['AI','listen','music']\n",
    "\n",
    "new_sen = [word for word in sen.split() if word not in stop_words]\n",
    "new_sen"
   ]
  },
  {
   "cell_type": "markdown",
   "metadata": {},
   "source": [
    "# Tuple"
   ]
  },
  {
   "cell_type": "code",
   "execution_count": 27,
   "metadata": {},
   "outputs": [
    {
     "name": "stdout",
     "output_type": "stream",
     "text": [
      "(5, 6) (9, 18)\n"
     ]
    }
   ],
   "source": [
    "tp1 = (2,3)\n",
    "tp2 = (3,6)\n",
    "s = 0\n",
    "p = 1\n",
    "res1 = ([s:= s+i for i in tp1][-1],[p:=i*p for i in tp1][-1])\n",
    "s = 0\n",
    "p = 1\n",
    "res2 = ([s:= s+i for i in tp2][-1],[p:=i*p for i in tp2][-1])\n",
    "print(res1,res2)"
   ]
  },
  {
   "cell_type": "code",
   "execution_count": 31,
   "metadata": {},
   "outputs": [
    {
     "data": {
      "text/plain": [
       "3.1622776601683795"
      ]
     },
     "execution_count": 31,
     "metadata": {},
     "output_type": "execute_result"
    }
   ],
   "source": [
    "import math\n",
    "\n",
    "s = 0\n",
    "sum_square = [s := s + (tp1[i] - tp2[i]) ** 2 for i in range(2)][-1]\n",
    "sum_square = math.sqrt(sum_square)\n",
    "sum_square"
   ]
  },
  {
   "cell_type": "code",
   "execution_count": 34,
   "metadata": {},
   "outputs": [
    {
     "data": {
      "text/plain": [
       "(1, 0)"
      ]
     },
     "execution_count": 34,
     "metadata": {},
     "output_type": "execute_result"
    }
   ],
   "source": [
    "index = (tp1.index(3),tp2.index(3))\n",
    "index"
   ]
  }
 ],
 "metadata": {
  "kernelspec": {
   "display_name": "aio2024_env",
   "language": "python",
   "name": "python3"
  },
  "language_info": {
   "codemirror_mode": {
    "name": "ipython",
    "version": 3
   },
   "file_extension": ".py",
   "mimetype": "text/x-python",
   "name": "python",
   "nbconvert_exporter": "python",
   "pygments_lexer": "ipython3",
   "version": "3.10.14"
  }
 },
 "nbformat": 4,
 "nbformat_minor": 2
}
