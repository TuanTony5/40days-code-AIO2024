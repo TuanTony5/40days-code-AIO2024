{
  "cells": [
    {
      "cell_type": "markdown",
      "metadata": {
        "colab_type": "text",
        "id": "view-in-github"
      },
      "source": [
        "<a href=\"https://colab.research.google.com/github/TuanTony5/40days-code-AIO2024/blob/main/Day_2_T%C3%ACm_nghi%E1%BB%87m_b%E1%BA%ADc_2.ipynb\" target=\"_parent\"><img src=\"https://colab.research.google.com/assets/colab-badge.svg\" alt=\"Open In Colab\"/></a>"
      ]
    },
    {
      "cell_type": "code",
      "execution_count": 9,
      "metadata": {
        "id": "zs4EhmRtuNXu"
      },
      "outputs": [
        {
          "name": "stdout",
          "output_type": "stream",
          "text": [
            "(-1.0, -2.0)\n",
            "-1.0\n",
            "None\n",
            "4.0\n"
          ]
        }
      ],
      "source": [
        "import math\n",
        "\n",
        "\n",
        "def quadratic_equation(a, b, c):\n",
        "    delta = b**2 - 4 * a * c\n",
        "    # if a=0\n",
        "    if a == 0:\n",
        "        if b == 0:\n",
        "            if c == 0:\n",
        "                return \"Infinity solutions\"\n",
        "            else:\n",
        "                return None\n",
        "        else:\n",
        "            return -c / b\n",
        "\n",
        "    # case a != 0\n",
        "    if delta < 0:\n",
        "        return None\n",
        "    elif delta == 0:\n",
        "        return -b / (2 * a)\n",
        "    else:\n",
        "        return (-b + math.sqrt(delta)) / (2 * a), (-b - math.sqrt(delta)) / (2 * a)\n",
        "\n",
        "\n",
        "print(quadratic_equation(2, 6, 4))\n",
        "print(quadratic_equation(1, 2, 1))\n",
        "print(quadratic_equation(4, 6, 3))\n",
        "print(quadratic_equation(0, 0.5, -2))"
      ]
    }
  ],
  "metadata": {
    "colab": {
      "authorship_tag": "ABX9TyNinrNo0USmAgyrHIQeaW5i",
      "include_colab_link": true,
      "provenance": []
    },
    "kernelspec": {
      "display_name": "Python 3",
      "name": "python3"
    },
    "language_info": {
      "codemirror_mode": {
        "name": "ipython",
        "version": 3
      },
      "file_extension": ".py",
      "mimetype": "text/x-python",
      "name": "python",
      "nbconvert_exporter": "python",
      "pygments_lexer": "ipython3",
      "version": "3.8.0"
    }
  },
  "nbformat": 4,
  "nbformat_minor": 0
}
