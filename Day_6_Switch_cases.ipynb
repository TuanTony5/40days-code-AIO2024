{
 "cells": [
  {
   "cell_type": "markdown",
   "metadata": {},
   "source": [
    "<h1> Use dictionary.get <h1>"
   ]
  },
  {
   "cell_type": "code",
   "execution_count": 1,
   "metadata": {},
   "outputs": [
    {
     "data": {
      "text/plain": [
       "'Do something else'"
      ]
     },
     "execution_count": 1,
     "metadata": {},
     "output_type": "execute_result"
    }
   ],
   "source": [
    "to_do = {\n",
    "    \"5 AM\": \"Wake up\", \n",
    "    \"6 AM\": \"Do yoga\", \n",
    "    \"7 AM\": \"Breakfast\"\n",
    "        }\n",
    "time = input('Input the time: ').upper()\n",
    "to_do.get(time,'Do something else')"
   ]
  },
  {
   "cell_type": "markdown",
   "metadata": {},
   "source": [
    "<h1> Match case <h1>"
   ]
  },
  {
   "cell_type": "code",
   "execution_count": 3,
   "metadata": {},
   "outputs": [
    {
     "name": "stdout",
     "output_type": "stream",
     "text": [
      "Do something else\n"
     ]
    }
   ],
   "source": [
    "time = input('Input the time: ').upper()\n",
    "match time:\n",
    "    case \"5 AM\":\n",
    "        print(\"Wake up\")\n",
    "    case \"6 AM\":\n",
    "        print(\"Do yoga\")\n",
    "    case \"7 AM\":\n",
    "        print(\"Breakfast\")\n",
    "    case _:\n",
    "        print('Do something else')"
   ]
  }
 ],
 "metadata": {
  "kernelspec": {
   "display_name": "Python 3",
   "language": "python",
   "name": "python3"
  },
  "language_info": {
   "codemirror_mode": {
    "name": "ipython",
    "version": 3
   },
   "file_extension": ".py",
   "mimetype": "text/x-python",
   "name": "python",
   "nbconvert_exporter": "python",
   "pygments_lexer": "ipython3",
   "version": "3.10.14"
  }
 },
 "nbformat": 4,
 "nbformat_minor": 2
}
