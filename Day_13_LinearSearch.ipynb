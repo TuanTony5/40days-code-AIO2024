{
 "cells": [
  {
   "cell_type": "code",
   "execution_count": 1,
   "metadata": {},
   "outputs": [
    {
     "name": "stdout",
     "output_type": "stream",
     "text": [
      "2 [2, 4, 6]\n"
     ]
    }
   ],
   "source": [
    "lst_data = [1,1.1,None,1.4,None,1.5,None,2]\n",
    "a = []\n",
    "for i,v in enumerate(lst_data):\n",
    "    if v == None:   a.append(i)\n",
    "print(a[0],a)"
   ]
  }
 ],
 "metadata": {
  "kernelspec": {
   "display_name": "aio2024_env",
   "language": "python",
   "name": "python3"
  },
  "language_info": {
   "codemirror_mode": {
    "name": "ipython",
    "version": 3
   },
   "file_extension": ".py",
   "mimetype": "text/x-python",
   "name": "python",
   "nbconvert_exporter": "python",
   "pygments_lexer": "ipython3",
   "version": "3.10.14"
  }
 },
 "nbformat": 4,
 "nbformat_minor": 2
}
