{
  "nbformat": 4,
  "nbformat_minor": 0,
  "metadata": {
    "colab": {
      "provenance": [],
      "authorship_tag": "ABX9TyNinrNo0USmAgyrHIQeaW5i",
      "include_colab_link": true
    },
    "kernelspec": {
      "name": "python3",
      "display_name": "Python 3"
    },
    "language_info": {
      "name": "python"
    }
  },
  "cells": [
    {
      "cell_type": "markdown",
      "metadata": {
        "id": "view-in-github",
        "colab_type": "text"
      },
      "source": [
        "<a href=\"https://colab.research.google.com/github/TuanTony5/40days-code-AIO2024/blob/main/Day_2_T%C3%ACm_nghi%E1%BB%87m_b%E1%BA%ADc_2.ipynb\" target=\"_parent\"><img src=\"https://colab.research.google.com/assets/colab-badge.svg\" alt=\"Open In Colab\"/></a>"
      ]
    },
    {
      "cell_type": "code",
      "execution_count": null,
      "metadata": {
        "id": "zs4EhmRtuNXu"
      },
      "outputs": [],
      "source": [
        "def quadratic_equation(a,b,c):\n",
        "  x1 = 0\n",
        "  x2 = 0\n",
        "  pass"
      ]
    }
  ]
}