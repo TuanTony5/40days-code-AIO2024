{
 "cells": [
  {
   "cell_type": "markdown",
   "metadata": {},
   "source": [
    "# Thư viện newspaper3k"
   ]
  },
  {
   "cell_type": "code",
   "execution_count": 2,
   "metadata": {},
   "outputs": [],
   "source": [
    "from newspaper import Article"
   ]
  },
  {
   "cell_type": "code",
   "execution_count": 3,
   "metadata": {},
   "outputs": [],
   "source": [
    "# Tạo 1 đối tượng article từ URL của paper\n",
    "article = Article('https://vnexpress.net/nvidia-va-fpt-chi-200-trieu-usd-mo-nha-may-ai-4737099.html')"
   ]
  },
  {
   "cell_type": "code",
   "execution_count": 4,
   "metadata": {},
   "outputs": [],
   "source": [
    "# Load the paper\n",
    "article.download()\n",
    "article.parse()"
   ]
  },
  {
   "cell_type": "code",
   "execution_count": 19,
   "metadata": {},
   "outputs": [
    {
     "name": "stdout",
     "output_type": "stream",
     "text": [
      "Nvidia và FPT dự kiến đầu tư 200 triệu USD để thành lập nhà máy AI Factory với hệ thống siêu máy tính sử dụng GPU H100 dành cho nghiên cứu và phát triển.\n",
      "\n",
      "Tại lễ ký kết sáng 23/4 ở Hà Nội, đại diện FPT cho biết sẽ đầu tư 200 triệu USD với mục tiêu mở rộng hệ sinh thái điện toán đám mây có chủ quyền của Việt Nam. Nhà máy AI này không sản xuất phần cứng, hoạt động dựa trên nền tảng công nghệ mới nhất của Nvidia, gồm bộ ứng dụng và khung công nghệ phát triển AI trong AI Enterprise và chip đồ họa GPU H100 Tensor Core.\n",
      "\n",
      "Theo đại diện tập đoàn công nghệ Việt, nhiệm vụ của nhà máy là tăng cường khả năng nghiên cứu và phát triển AI, từ đó xây dựng các ứng dụng và giải pháp tiên tiến, tập trung vào AI tạo sinh (GenAI), xe tự hành và chuyển đổi xanh.\n",
      "\n",
      "Lễ ký kết hợp tác giữa Nvidia và FPT ngày 23/4 tại Hà Nội. Ảnh: Trần Huấn\n",
      "\n",
      "Nhà máy được đánh giá sẽ góp phần nâng cao năng lực cung cấp giải pháp công nghệ cao về AI và cloud của Việt Nam trên quy mô toàn cầu, đồng thời nâng tầm nguồn nhân lực công nghệ.\n",
      "\n",
      "\"Chúng tôi cam kết đưa Việt Nam trở thành Trung tâm phát triển AI của thế giới\", ông Trương Gia Bình, Chủ tịch FPT, tuyên bố.\n",
      "\n",
      "Trong khi đó, ông Keith Strier, Phó chủ tịch Nvidia, nói: \"AI sở hữu tiềm năng to lớn trong nâng cao chất lượng cuộc sống và củng cố nền kinh tế cho mọi quốc gia, thông qua thúc đẩy đổi mới sáng tạo trong nhiều lĩnh vực như y tế, nông nghiệp, khí tượng học và sản xuất. Chúng tôi sẽ đồng hành cùng các doanh nghiệp với mục tiêu tăng tốc chuyển đổi số, đưa Việt Nam trở thành cường quốc AI\".\n",
      "\n",
      "FPT dự kiến đưa nội dung đào tạo của Nvidia vào giảng dạy tại cấp đại học và trung học phổ thông nhằm phát triển nguồn nhân lực công nghệ cao. Tập đoàn đặt mục tiêu có ít nhất 30.000 sinh viên và học sinh tiếp cận chương trình trong vòng 5 năm.\n",
      "\n",
      "Ông Keith Strier, Phó chủ tịch Nvidia tại lễ ký kết với FPT ngày 23/4 ở Hà Nội. Ảnh: Tuấn Hưng\n",
      "\n",
      "Cũng tại sự kiện, Nvidia tuyên bố FPT trở thành đối tác triển khai dịch vụ (Service Delivery Partner) trong mạng lưới, chuyên cung cấp phần mềm, phần cứng, dịch vụ điện toán đám mây và giải pháp AI tạo sinh tích hợp công nghệ Nvidia. FPT sẽ tập trung vào lĩnh vực công nghệ ôtô, sản xuất chế tạo, tài chính, ngân hàng và bảo hiểm.\n",
      "\n",
      "Hai bên cũng sẽ cùng phát triển dịch vụ trò chơi trên đám mây (Cloud Gaming) tại Việt Nam thông qua cơ sở hạ tầng và triển khai dịch vụ GeForce Now.\n",
      "\n",
      "Trước đó, ngày 22/4, ông Keith Strier cũng có cuộc gặp với Bộ trưởng Kế hoạch và Đầu tư Nguyễn Chí Dũng, trong đó củng cố việc xây dựng và phát triển hệ sinh bán dẫn, AI của Việt Nam. Một nguồn tin cho biết mục đích của Nvidia khi tới Việt Nam lần này là khảo sát và làm việc với các bên để thiết lập trung tâm nghiên cứu, phát triển và đào tạo về AI, lắp đặt siêu máy tính, đồng thời có thể sẽ chuyển một phần sản xuất GPU cho siêu máy tính sang Việt Nam.\n",
      "\n",
      "Tháng 12/2023, CEO Nvidia Jensen Huang thực hiện chuyến đi tới châu Á, lần lượt tại Nhật Bản, Singapore, Malaysia và Việt Nam, nhằm tìm kiếm đối tác tiềm năng cho Nvidia. Xuyên suốt các cuộc gặp, ông nhấn mạnh châu Á đã trở thành trung tâm công nghệ của thế giới, thể hiện mong muốn mở rộng hoạt động của tập đoàn tại đây.\n",
      "\n",
      "Đầu tháng 4, ông Budi Arie Setiadi, Bộ trưởng Truyền thông Indonesia, cho biết Nvidia đang lên kế hoạch mở một trung tâm trí tuệ nhân tạo trị giá 200 triệu USD với sự hợp tác cùng công ty viễn thông Indosat Ooredoo Hutchison. Cơ sở mới được đặt tại thành phố Surakarta nhằm củng cố hạ tầng viễn thông, nguồn nhân lực và nhân tài kỹ thuật số địa phương. Khi đó, Nvidia từ chối bình luận về thông tin.\n",
      "\n",
      "Nvidia, thành lập năm 1993, đang là \"ngôi sao\" của ngành bán dẫn khi mẫu chip AI của công ty liên tục được săn đón. Đầu năm 2022, công ty công bố H100, bộ xử lý đồ họa GPU mạnh nhất thế giới khi đó, nhưng bị giới phân tích đánh giá chọn sai thời gian ra mắt, bởi các doanh nghiệp đang tìm cách thắt chặt chi tiêu và sa thải nhân sự. Tuy nhiên đến cuối năm đó, ChatGPT bất ngờ tạo nên cơn sốt toàn cầu khiến chip AI của Nvidia trở nên khan hiếm. Giá trị vốn hóa của Nvidia từ 400 tỷ USD vào tháng 1/2023 đã tăng lên 2.000 tỷ USD đầu năm nay.\n",
      "\n",
      "Châu An\n"
     ]
    }
   ],
   "source": [
    "# Print the paper\n",
    "print(article.text)\n"
   ]
  },
  {
   "cell_type": "code",
   "execution_count": 9,
   "metadata": {},
   "outputs": [
    {
     "name": "stdout",
     "output_type": "stream",
     "text": [
      "{'https://i1-sohoa.vnecdn.net/2024/04/23/a2-9903-1713856488.jpg?w=1200&h=0&q=100&dpr=1&fit=crop&s=GNzXbTNSthUW-oUhFbkTMw', 'data:image/gif;base64,R0lGODlhAQABAAAAACH5BAEKAAEALAAAAAABAAEAAAICTAEAOw==', 'https://s1.vnecdn.net/vnexpress/restruct/i/v879/v2_2019/pc/graphics/logo.svg', 'https://s1.vnecdn.net/vnexpress/restruct/c/v2648/v2_2019/pc/images/graphics/menu-myvne.svg'}\n"
     ]
    }
   ],
   "source": [
    "# Get all the images of the paper\n",
    "print(article.images)\n",
    "# Trong paper này câu lệnh này lấy thiếu 1 ảnh"
   ]
  },
  {
   "cell_type": "markdown",
   "metadata": {},
   "source": [
    "# Thư viện nltk"
   ]
  },
  {
   "cell_type": "code",
   "execution_count": 45,
   "metadata": {},
   "outputs": [
    {
     "name": "stdout",
     "output_type": "stream",
     "text": [
      "[('Tôi', 'NNP'), ('thích', 'NN'), ('học', 'NN'), ('AI', 'NNP'), ('và', 'NN'), ('Toán', 'NNP')]\n"
     ]
    },
    {
     "name": "stderr",
     "output_type": "stream",
     "text": [
      "[nltk_data] Downloading package punkt to\n",
      "[nltk_data]     C:\\Users\\ADMIN\\AppData\\Roaming\\nltk_data...\n",
      "[nltk_data]   Package punkt is already up-to-date!\n",
      "[nltk_data] Downloading package averaged_perceptron_tagger to\n",
      "[nltk_data]     C:\\Users\\ADMIN\\AppData\\Roaming\\nltk_data...\n",
      "[nltk_data]   Package averaged_perceptron_tagger is already up-to-\n",
      "[nltk_data]       date!\n",
      "[nltk_data] Downloading package universal_tagset to\n",
      "[nltk_data]     C:\\Users\\ADMIN\\AppData\\Roaming\\nltk_data...\n",
      "[nltk_data]   Package universal_tagset is already up-to-date!\n"
     ]
    }
   ],
   "source": [
    "import nltk\n",
    "from nltk.tokenize import word_tokenize\n",
    "\n",
    "nltk.download('punkt')\n",
    "nltk.download('averaged_perceptron_tagger')\n",
    "nltk.download('universal_tagset')\n",
    "\n",
    "data = 'Tôi thích học AI và Toán'\n",
    "\n",
    "# Step 1: Tokenization data\n",
    "tokenization = word_tokenize(data)\n",
    "\n",
    "# Step 2: Get the Pos tagging library\n",
    "result = nltk.pos_tag(tokenization)\n",
    "print(result)"
   ]
  },
  {
   "cell_type": "code",
   "execution_count": 46,
   "metadata": {},
   "outputs": [
    {
     "name": "stdout",
     "output_type": "stream",
     "text": [
      "['Tôi', 'thích', 'học', 'AI', 'và', 'Toán']\n"
     ]
    }
   ],
   "source": [
    "print(tokenization)"
   ]
  },
  {
   "cell_type": "markdown",
   "metadata": {},
   "source": [
    "# Exercises"
   ]
  },
  {
   "cell_type": "code",
   "execution_count": 47,
   "metadata": {},
   "outputs": [
    {
     "name": "stdout",
     "output_type": "stream",
     "text": [
      "Ngày 13/3, Cognition Labs, startup về công nghệ trí tuệ nhân tạo tại Mỹ, công bố kỹ sư phát triển phần mềm AI đầu tiên trên thế giới.\n",
      "Với Devin, các kỹ sư có thể tập trung vào những vấn đề thú vị hơn, các đội kỹ thuật có thể nỗ lực cho những mục tiêu tham vọng hơn\", Cognition cho biết.\n",
      "Giới thiệu về Devin - kỹ sư lập trình AI đầu tiên thế giới Đồng sáng lập Scott Wu giới thiệu về khả năng lập trình của Devin.\n",
      "Nhà phát triển cho biết sản phẩm này chỉ là bước đầu trong việc phát triển các kỹ sư AI của mình.\n",
      "Theo ông, con người đang ở giai đoạn đầu của cuộc cách mạng AI và lập trình không còn là kỹ năng quan trọng nữa.\n"
     ]
    }
   ],
   "source": [
    "# Summary the paper\n",
    "article = Article('https://vnexpress.net/ky-su-phan-mem-ai-dau-tien-tren-the-gioi-4722040.html?fbclid=IwZXh0bgNhZW0CMTAAAR0E_hDpCrnx1usU9fglmS4OZs-0xF_WpszDwfZgZZbzc07hFBG1b0J4Ml0_aem_AXy-19QGpDA2sky0sQ8gmDQdtdd_5ohF8Nc8SSCiBwtRTfDeu-sfGuoUKMrmnu0vvwtAaIrpjlpjgGL2L2Vso6K2')\n",
    "\n",
    "article.download()\n",
    "article.parse()\n",
    "article.nlp()\n",
    "\n",
    "print(article.summary)"
   ]
  },
  {
   "cell_type": "code",
   "execution_count": 56,
   "metadata": {},
   "outputs": [
    {
     "name": "stdout",
     "output_type": "stream",
     "text": [
      "[('Kỹ', 'NNP'), ('sư', 'NN'), ('phần', 'NN'), ('mềm', 'NN'), ('được', 'NNP'), ('tạo', 'NN'), ('từ', 'NN'), ('AI', 'NNP'), ('với', 'NN'), ('tên', 'NN'), ('Devin', 'NNP'), ('có', 'NN'), ('thể', 'NN'), ('tự', 'NN'), ('lập', 'NN'), ('trình', 'NN'), (',', ','), ('hoạt', 'NN'), ('động', 'NNP'), ('độc', 'NNP'), ('lập', 'VBZ'), ('khi', 'FW'), ('được', 'NNP'), ('giao', 'NN'), ('nhiệm', 'NN'), ('vụ', 'NN'), (',', ','), ('giúp', 'NN'), ('kỹ', 'NN'), ('sư', 'NN'), ('con', 'NN'), ('người', 'JJ'), ('giảm', 'NN'), ('bớt', 'NN'), ('thời', 'NN'), ('gian', 'JJ'), ('làm', 'NN'), ('việc', 'NN'), ('.', '.'), ('Ngày', 'CC'), ('13/3', 'CD'), (',', ','), ('Cognition', 'NNP'), ('Labs', 'NNP'), (',', ','), ('startup', 'NN'), ('về', 'NN'), ('công', 'NN'), ('nghệ', 'JJ'), ('trí', 'NN'), ('tuệ', 'NN'), ('nhân', 'JJ'), ('tạo', 'NN'), ('tại', 'NN'), ('Mỹ', 'NNP'), (',', ','), ('công', 'NN'), ('bố', 'NN'), ('kỹ', 'NN'), ('sư', 'NN'), ('phát', 'NN'), ('triển', 'NN'), ('phần', 'NN'), ('mềm', 'NN'), ('AI', 'NNP'), ('đầu', 'NNP'), ('tiên', 'NN'), ('trên', 'NN'), ('thế', 'NN'), ('giới', 'NN'), ('.', '.'), ('``', '``'), ('Devin', 'NNP'), ('là', 'NN'), ('một', 'NN'), ('đồng', 'NNP'), ('đội', 'NNP'), ('tài', 'NN'), ('năng', 'NN'), ('và', 'NN'), ('không', 'NN'), ('biết', 'NN'), ('mệt', 'NN'), (',', ','), ('sẵn', 'JJ'), ('sàng', 'NN'), ('làm', 'NN'), ('cùng', 'NN'), ('bạn', 'NN'), ('hoặc', 'NN'), ('tự', 'NN'), ('hoàn', 'NN'), ('thành', 'NN'), ('nhiệm', 'JJ'), ('vụ', 'NN'), ('để', 'NNP'), ('bạn', 'NN'), ('đánh', 'NNP'), ('giá', 'NN'), ('.', '.'), ('Với', 'NNP'), ('Devin', 'NNP'), (',', ','), ('các', 'NN'), ('kỹ', 'NN'), ('sư', 'NN'), ('có', 'NN'), ('thể', 'NN'), ('tập', 'NN'), ('trung', 'NN'), ('vào', 'NN'), ('những', 'JJ'), ('vấn', 'NN'), ('đề', 'NNP'), ('thú', 'NN'), ('vị', 'NN'), ('hơn', 'NN'), (',', ','), ('các', 'NN'), ('đội', 'NNP'), ('kỹ', 'NNP'), ('thuật', 'NN'), ('có', 'NN'), ('thể', 'NN'), ('nỗ', 'JJ'), ('lực', 'NN'), ('cho', 'NN'), ('những', 'JJ'), ('mục', 'NN'), ('tiêu', 'NN'), ('tham', 'NN'), ('vọng', 'NN'), ('hơn', 'NN'), (\"''\", \"''\"), (',', ','), ('Cognition', 'NNP'), ('cho', 'NN'), ('biết', 'NN'), ('.', '.'), ('Minh', 'NNP'), ('họa', 'NN'), ('về', 'NN'), ('robot', 'NN'), ('lập', 'NN'), ('trình', 'NN'), ('do', 'VBP'), ('ChatGPT', 'NNP'), ('tạo', 'VB'), ('ra', 'NN'), ('.', '.'), ('Đây', 'CC'), ('là', 'JJ'), ('sản', 'NN'), ('phẩm', 'NN'), ('của', 'NN'), ('một', 'NN'), ('nhóm', 'JJ'), ('kỹ', 'NN'), ('sư', 'NN'), ('đang', 'NNP'), ('làm', 'NN'), ('việc', 'NN'), ('tại', 'NN'), ('nhiều', 'JJ'), ('công', 'NN'), ('ty', 'NN'), ('lớn', 'NN'), ('như', 'JJ'), ('Google', 'NNP'), ('DeepMind', 'NNP'), (',', ','), ('Waymo', 'NNP'), (',', ','), ('Scale', 'NNP'), ('AI', 'NNP'), (',', ','), ('được', 'NNP'), ('dẫn', 'VBZ'), ('dắt', 'JJ'), ('bởi', 'NN'), ('các', 'NN'), ('kỹ', 'NN'), ('sư', 'NN'), ('gồm', 'NN'), ('Scott', 'NNP'), ('Wu', 'NNP'), (',', ','), ('Steven', 'NNP'), ('Hao', 'NNP'), ('và', 'FW'), ('Walden', 'NNP'), ('Yan', 'NNP'), ('.', '.'), ('Dù', 'NNP'), ('hoạt', 'NN'), ('động', 'NNP'), ('một', 'NN'), ('thời', 'NN'), ('gian', 'NN'), (',', ','), ('Cognition', 'NNP'), ('Labs', 'NNP'), ('mới', 'NN'), ('thực', 'NN'), ('sự', 'NN'), ('được', 'NNP'), ('thành', 'NN'), ('lập', 'NN'), ('vào', 'NN'), ('đầu', 'NNP'), ('năm', 'CC'), ('nay', 'JJ'), ('và', 'NN'), ('gọi', 'NN'), ('vốn', 'NN'), ('được', 'VBD'), ('21', 'CD'), ('triệu', 'NN'), ('USD', 'NNP'), ('.', '.'), ('Trong', 'NNP'), ('phần', 'JJ'), ('giới', 'NN'), ('thiệu', 'NN'), (',', ','), ('họ', 'NN'), ('mô', 'NN'), ('tả', 'NN'), ('mình', 'NN'), ('là', 'NN'), ('một', 'NN'), ('``', '``'), ('nhóm', 'JJ'), ('nhỏ', 'NN'), ('nhưng', 'NN'), ('nhiều', 'JJ'), ('tài', 'NN'), ('năng', 'NN'), (\"''\", \"''\"), (',', ','), ('với', 'FW'), ('những', 'FW'), ('người', 'FW'), ('sáng', 'FW'), ('lập', 'FW'), ('từng', 'NN'), ('giành', 'NN'), ('được', 'VBD'), ('10', 'CD'), ('huy', 'NN'), ('chương', 'NN'), ('vàng', 'NN'), ('Olympic', 'NNP'), ('Tin', 'NNP'), ('học', 'NN'), ('quốc', 'NN'), ('tế', 'NN'), ('.', '.'), ('Trước', 'NNP'), ('Devin', 'NNP'), (',', ','), ('thế', 'NN'), ('giới', 'NN'), ('cũng', 'NN'), ('có', 'NN'), ('những', 'JJ'), ('trợ', 'NN'), ('lý', 'NN'), ('AI', 'NNP'), ('hỗ', 'NN'), ('trợ', 'NN'), ('lập', 'NN'), ('trình', 'NN'), ('như', 'JJ'), ('Github', 'NNP'), ('Copilot', 'NNP'), ('hoặc', 'NN'), ('các', 'NN'), ('chatbot', 'NN'), ('ChatGPT', 'NNP'), (',', ','), ('Google', 'NNP'), ('Bard', 'NNP'), ('.', '.'), ('Tuy', 'NNP'), ('nhiên', 'NN'), (',', ','), ('Devin', 'NNP'), ('khác', 'NNP'), ('biệt', 'NN'), ('vì', 'NN'), ('có', 'NN'), ('thể', 'NN'), ('xử', 'NNP'), ('lý', 'VBZ'), ('toàn', 'JJ'), ('bộ', 'NN'), ('quá', 'NN'), ('trình', 'NN'), ('phát', 'NN'), ('triển', 'NN'), ('từ', 'NN'), ('đầu', 'NNP'), ('đến', 'NNP'), ('cuối', 'NN'), ('.', '.'), ('Trong', 'NNP'), ('video', 'NN'), ('giới', 'NN'), ('thiệu', 'NN'), (',', ','), ('Scott', 'NNP'), ('Wu', 'NNP'), (',', ','), ('CEO', 'NNP'), ('của', 'VBZ'), ('Cognition', 'NNP'), ('Labs', 'NNP'), (',', ','), ('đã', 'NNP'), ('mô', 'NNP'), ('tả', 'NN'), ('cách', 'NN'), ('người', 'JJ'), ('dùng', 'NN'), ('Devin', 'NNP'), ('có', 'NN'), ('thể', 'NN'), ('viết', 'NN'), ('code', 'NN'), ('ban', 'NN'), ('đầu', 'NNP'), (',', ','), ('theo', 'NN'), ('dõi', 'NN'), ('dòng', 'NN'), ('lệnh', 'NN'), (',', ','), ('kiểm', 'VB'), ('tra', 'JJ'), ('và', 'NN'), ('sửa', 'NN'), ('lỗi', 'NN'), (',', ','), ('thậm', 'JJ'), ('chí', 'NN'), ('quản', 'NN'), ('lý', 'NN'), ('những', 'JJ'), ('dự', 'NN'), ('án', 'NNP'), ('trên', 'NN'), ('nền', 'NN'), ('tảng', 'NN'), ('như', 'JJ'), ('Upwork', 'NNP'), ('.', '.'), ('Devin', 'NNP'), ('có', 'NN'), ('thể', 'NN'), ('tìm', 'NN'), ('kiếm', 'NN'), ('trên', 'JJ'), ('Internet', 'NNP'), ('để', 'NNP'), ('học', 'NN'), ('cách', 'NN'), ('hoàn', 'NN'), ('thành', 'NN'), ('nhiệm', 'JJ'), ('vụ', 'NN'), ('.', '.'), ('Nhờ', 'NNP'), ('đó', 'NNP'), (',', ','), ('các', 'NN'), ('kỹ', 'NN'), ('sư', 'NN'), ('sẽ', 'NN'), ('có', 'NN'), ('trong', 'JJ'), ('tay', 'NN'), ('một', 'NN'), ('nhân', 'JJ'), ('viên', 'NN'), ('AI', 'NNP'), ('đầy', 'NNP'), ('đủ', 'NNP'), ('năng', 'MD'), ('lực', 'VB'), ('để', 'NNP'), ('tham', 'NNP'), ('gia', 'NN'), ('dự', 'NN'), ('án', 'NNP'), ('thay', 'NN'), ('vì', 'NN'), ('một', 'NN'), ('trợ', 'NN'), ('lý', 'NN'), ('chỉ', 'NN'), ('có', 'NN'), ('thể', 'NN'), ('gợi', 'NN'), ('ý', 'NNP'), ('những', 'CC'), ('đoạn', 'NNP'), ('code', 'NN'), ('.', '.'), ('Giới', 'NNP'), ('thiệu', 'JJ'), ('về', 'NN'), ('Devin', 'NNP'), ('-', ':'), ('kỹ', 'NN'), ('sư', 'NN'), ('lập', 'NN'), ('trình', 'NN'), ('AI', 'NNP'), ('đầu', 'NNP'), ('tiên', 'NN'), ('thế', 'NN'), ('giới', 'NN'), ('Đồng', 'NNP'), ('sáng', 'NN'), ('lập', 'NN'), ('Scott', 'NNP'), ('Wu', 'NNP'), ('giới', 'NN'), ('thiệu', 'NN'), ('về', 'NN'), ('khả', 'NN'), ('năng', 'JJ'), ('lập', 'NN'), ('trình', 'NN'), ('của', 'NN'), ('Devin', 'NNP'), ('.', '.'), ('Video', 'NN'), (':', ':'), ('cognition-labs', 'JJ'), ('Để', 'NNP'), ('sử', 'NN'), ('dụng', 'NN'), (',', ','), ('người', 'JJ'), ('dùng', 'NN'), ('nhập', 'NN'), ('câu', 'NN'), ('lệnh', 'NN'), ('bằng', 'NN'), ('ngôn', 'JJ'), ('ngữ', 'JJ'), ('tự', 'NN'), ('nhiên', 'NN'), ('vào', 'NN'), ('giao', 'NN'), ('diện', 'NN'), ('kiểu', 'NN'), ('chatbot', 'NN'), ('của', 'NN'), ('Devin', 'NNP'), ('và', 'NN'), ('kỹ', 'NN'), ('sư', 'NN'), ('AI', 'NNP'), ('này', 'CC'), ('sẽ', 'JJ'), ('xử', 'NNP'), ('lý', 'NN'), ('tiếp', 'NN'), ('.', '.'), ('Nó', 'NNP'), ('sẽ', 'VBD'), ('lên', 'JJ'), ('kế', 'NN'), ('hoạch', 'NN'), ('chi', 'NN'), ('tiết', 'NN'), ('để', 'NNP'), ('giải', 'NN'), ('quyết', 'NN'), ('vấn', 'NN'), ('đề', 'NNP'), ('theo', 'NN'), ('từng', 'NN'), ('bước', 'NN'), ('.', '.'), ('Tiếp', 'NNP'), ('theo', 'NN'), (',', ','), ('Devin', 'NNP'), ('sẽ', 'NN'), ('khởi', 'NN'), ('động', 'NNP'), ('dự', 'NN'), ('án', 'NNP'), ('bằng', 'NN'), ('cách', 'NN'), ('sử', 'NN'), ('dụng', 'NN'), ('những', 'JJ'), ('công', 'NN'), ('cụ', 'NN'), ('dành', 'NN'), ('cho', 'NN'), ('nhà', 'JJ'), ('phát', 'NN'), ('triển', 'NN'), ('.', '.'), ('Nó', 'NNP'), ('sẽ', 'VBD'), ('viết', 'JJ'), ('code', 'NN'), (',', ','), ('khắc', 'VB'), ('phục', 'NN'), ('lỗi', 'NN'), (',', ','), ('kiểm', 'VB'), ('tra', 'JJ'), ('và', 'NN'), ('báo', 'NN'), ('cáo', 'NN'), ('tiến', 'NN'), ('trình', 'NN'), ('theo', 'NN'), ('thời', 'NN'), ('gian', 'JJ'), ('thực', 'NN'), (',', ','), ('cho', 'JJ'), ('phép', 'NN'), ('người', 'NN'), ('dùng', 'NN'), ('theo', 'NN'), ('dõi', 'NN'), ('mọi', 'NN'), ('thứ', 'NN'), ('và', 'NN'), ('đề', 'NNP'), ('phòng', 'NN'), ('những', 'NN'), ('điều', 'NNP'), ('ngoài', 'CC'), ('ý', 'NNP'), ('muốn', 'NN'), ('.', '.'), ('Nếu', 'NNP'), ('thấy', 'JJ'), ('sai', 'NN'), ('sót', 'NN'), (',', ','), ('người', 'JJ'), ('dùng', 'NN'), ('có', 'NN'), ('thể', 'NN'), ('vào', 'NN'), ('giao', 'NN'), ('diện', 'NN'), ('chat', 'WP'), ('và', 'VBZ'), ('ra', 'NN'), ('lệnh', 'NN'), ('cho', 'NN'), ('AI', 'NNP'), ('thực', 'NN'), ('hiện', 'NN'), ('thay', 'NN'), ('đổi', 'NNP'), ('.', '.'), ('Điều', 'VB'), ('này', 'JJ'), ('giúp', 'NN'), ('các', 'NN'), ('đội', 'NNP'), ('kỹ', 'NNP'), ('thuật', 'NN'), ('giao', 'NN'), ('một', 'NN'), ('số', 'NN'), ('nhiệm', 'JJ'), ('vụ', 'NN'), ('của', 'NN'), ('mình', 'NN'), ('cho', 'NN'), ('AI', 'NNP'), ('và', 'NN'), ('tập', 'NN'), ('trung', 'NN'), ('vào', 'NN'), ('các', 'NN'), ('dự', 'NN'), ('án', 'NNP'), ('sáng', 'NN'), ('tạo', 'NN'), ('hơn', 'NN'), (',', ','), ('đòi', 'NNP'), ('hỏi', 'VBZ'), ('trí', 'JJ'), ('thông', 'NN'), ('minh', 'NN'), ('của', 'NN'), ('con', 'NN'), ('người', 'NN'), ('.', '.'), ('Trong', 'NNP'), ('thử', 'JJ'), ('nghiệm', 'NN'), ('của', 'NN'), ('Bloomberg', 'NNP'), (',', ','), ('Devin', 'NNP'), ('có', 'NN'), ('thể', 'NN'), ('lập', 'NN'), ('trình', 'NN'), ('trò', 'NN'), ('chơi', 'NN'), ('Pong', 'NNP'), ('cơ', 'NN'), ('bản', 'NN'), ('và', 'NN'), ('tạo', 'NN'), ('một', 'NN'), ('trang', 'NN'), ('web', 'NN'), ('trong', 'JJ'), ('chưa', 'NN'), ('đầy', 'VBD'), ('20', 'CD'), ('phút', 'NN'), ('.', '.'), ('Theo', 'NNP'), ('công', 'NN'), ('bố', 'NN'), ('của', 'NN'), ('nhà', 'JJ'), ('phát', 'NN'), ('triển', 'NN'), (',', ','), ('khi', 'VB'), ('đánh', 'NNP'), ('giá', 'NN'), ('dựa', 'NN'), ('trên', 'NN'), ('tiêu', 'NN'), ('chuẩn', 'VBD'), ('SWE-Bench', 'JJ'), ('về', 'NN'), ('việc', 'NN'), ('giải', 'NN'), ('quyết', 'NN'), ('các', 'NN'), ('vấn', 'NN'), ('đề', 'NNP'), ('trên', 'NN'), ('GitHub', 'NNP'), (',', ','), ('Devin', 'NNP'), ('giải', 'NN'), ('quyết', 'NN'), ('chính', 'NN'), ('xác', 'VBD'), ('13,86', 'CD'), ('%', 'NN'), ('các', 'NN'), ('vấn', 'NN'), ('mà', 'NN'), ('không', 'NN'), ('cần', 'NN'), ('hỗ', 'NN'), ('trợ', 'NN'), ('.', '.'), ('Trong', 'NNP'), ('khi', 'VBD'), ('với', 'JJ'), ('mô', 'NN'), ('hình', 'NN'), ('trước', 'NN'), ('đó', 'NNP'), (',', ','), ('hiệu', 'NN'), ('suất', 'NN'), ('chỉ', 'NN'), ('đạt', 'VBD'), ('1,96', 'CD'), ('%', 'NN'), ('và', 'NN'), ('cao', 'NN'), ('nhất', 'JJ'), ('là', 'RB'), ('4,80', 'CD'), ('%', 'NN'), ('nếu', 'JJ'), ('được', 'NNP'), ('hỗ', 'NN'), ('trợ', 'NN'), ('.', '.'), ('Hiệu', 'NNP'), ('suất', 'VBD'), ('giải', 'JJ'), ('quyết', 'NN'), ('các', 'NN'), ('vấn', 'NN'), ('đề', 'NNP'), ('về', 'NN'), ('lập', 'NN'), ('trình', 'NN'), ('của', 'NN'), ('Devin', 'NNP'), ('so', 'RB'), ('với', 'JJ'), ('các', 'NN'), ('mô', 'NN'), ('hình', 'NN'), ('AI', 'NNP'), ('khác', 'NN'), ('.', '.'), ('Ảnh', 'NN'), (':', ':'), ('cognition-labs', 'JJ'), ('Tuy', 'NNP'), ('nhiên', 'NN'), (',', ','), ('hiện', 'NN'), ('Devin', 'NNP'), ('chưa', 'NN'), ('được', 'NNP'), ('cung', 'NN'), ('cấp', 'NN'), ('rộng', 'NN'), ('rãi', 'NN'), ('mà', 'NN'), ('chỉ', 'NN'), ('dành', 'NN'), ('cho', 'NN'), ('một', 'NN'), ('số', 'NN'), ('người', 'JJ'), ('dùng', 'NN'), ('đã', 'NNP'), ('đăng', 'NNP'), ('ký', 'NNP'), ('trước', 'NN'), ('và', 'NN'), ('được', 'NNP'), ('chọn', 'NN'), ('.', '.'), ('Nhà', 'NNP'), ('phát', 'NN'), ('triển', 'NN'), ('cho', 'NN'), ('biết', 'NN'), ('sản', 'NN'), ('phẩm', 'NN'), ('này', 'JJ'), ('chỉ', 'NN'), ('là', 'NN'), ('bước', 'NN'), ('đầu', 'NNP'), ('trong', 'RB'), ('việc', 'RB'), ('phát', 'JJ'), ('triển', 'NN'), ('các', 'NN'), ('kỹ', 'NN'), ('sư', 'NN'), ('AI', 'NNP'), ('của', 'NN'), ('mình', 'NN'), ('.', '.'), ('``', '``'), ('Chúng', 'NNP'), ('tôi', 'NN'), ('đang', 'NNP'), ('phát', 'NN'), ('triển', 'NN'), ('những', 'JJ'), ('đồng', 'NNP'), ('đội', 'NNP'), ('AI', 'NNP'), ('với', 'NN'), ('khả', 'NN'), ('năng', 'JJ'), ('vượt', 'NN'), ('xa', 'NNP'), ('công', 'NN'), ('cụ', 'NN'), ('AI', 'NNP'), ('hiện', 'NN'), ('nay', 'NN'), ('.', '.'), ('Bằng', 'NNP'), ('cách', 'NN'), ('giải', 'NN'), ('quyết', 'NN'), ('vấn', 'NN'), ('đề', 'NNP'), ('lý', 'NN'), ('luận', 'NN'), (',', ','), ('chúng', 'NN'), ('tôi', 'NN'), ('có', 'NN'), ('thể', 'NN'), ('mở', 'NN'), ('ra', 'NN'), ('những', 'JJ'), ('khả', 'NN'), ('năng', 'NN'), ('mới', 'NN'), ('trong', 'JJ'), ('nhiều', 'JJ'), ('lĩnh', 'NN'), ('vực', 'SYM'), ('-', ':'), ('code', 'NN'), ('chỉ', 'NN'), ('là', 'NN'), ('bước', 'NN'), ('khởi', 'NN'), ('đầu', 'NNP'), ('.', '.'), ('Chúng', 'NNP'), ('tôi', 'JJ'), ('muốn', 'NN'), ('giúp', 'NN'), ('mọi', 'NN'), ('người', 'JJ'), ('trên', 'NN'), ('thế', 'NN'), ('giới', 'NN'), ('biến', 'NN'), ('ý', 'NNP'), ('tưởng', 'NN'), ('của', 'NN'), ('họ', 'NN'), ('thành', 'NN'), ('hiện', 'NN'), ('thực', 'NN'), (\"''\", \"''\"), (',', ','), ('Cognition', 'NNP'), ('giải', 'NN'), ('thích', 'NN'), ('.', '.'), ('Sản', 'NNP'), ('phẩm', 'NN'), ('của', 'NN'), ('Cogniton', 'NNP'), ('Labs', 'NNP'), ('được', 'NNP'), ('đánh', 'NNP'), ('giá', 'NN'), ('là', 'NN'), ('minh', 'NN'), ('họa', 'NN'), ('rõ', 'NN'), ('nhất', 'JJ'), ('cho', 'NN'), ('nhận', 'NN'), ('định', 'NNP'), ('trước', 'NN'), ('đó', 'NNP'), ('của', 'NN'), ('nhà', 'NN'), ('sáng', 'NN'), ('lập', 'JJ'), ('Nvidia', 'NNP'), ('Jensen', 'NNP'), ('Huang', 'NNP'), ('.', '.'), ('Tại', 'NNP'), ('một', 'NN'), ('sự', 'NN'), ('kiện', 'NN'), ('cuối', 'NN'), ('tháng', 'VBD'), ('2', 'CD'), ('vừa', 'NN'), ('qua', 'NN'), (',', ','), ('ông', 'NNP'), ('Huang', 'NNP'), ('từng', 'VBD'), ('gây', 'JJ'), ('sốc', 'NN'), ('khi', 'NN'), ('khuyên', 'NN'), ('người', 'JJ'), ('trẻ', 'NN'), ('không', 'NN'), ('học', 'NN'), ('viết', 'NN'), ('mã', 'NN'), ('.', '.'), ('Theo', 'NNP'), ('ông', 'NNP'), (',', ','), ('con', 'NN'), ('người', 'NN'), ('đang', 'NNP'), ('ở', 'NNP'), ('giai', 'NN'), ('đoạn', 'NNP'), ('đầu', 'NNP'), ('của', 'NN'), ('cuộc', 'NN'), ('cách', 'NN'), ('mạng', 'NN'), ('AI', 'NNP'), ('và', 'NN'), ('lập', 'NN'), ('trình', 'NN'), ('không', 'NN'), ('còn', 'NN'), ('là', 'NN'), ('kỹ', 'NN'), ('năng', 'JJ'), ('quan', 'JJ'), ('trọng', 'NN'), ('nữa', 'NN'), ('.', '.'), ('Ông', 'CC'), ('cho', 'JJ'), ('rằng', 'NN'), ('trí', 'NN'), ('tuệ', 'NN'), ('nhân', 'JJ'), ('tạo', 'NN'), ('đang', 'NNP'), ('đảm', 'NNP'), ('nhận', 'MD'), ('công', 'VB'), ('việc', 'JJ'), ('này', 'JJ'), ('ngày', 'NN'), ('một', 'NN'), ('tốt', 'NN'), (',', ','), ('do', 'VBP'), ('đó', 'VB'), ('con', 'VB'), ('người', 'JJ'), ('nên', 'JJ'), ('tập', 'NN'), ('trung', 'NN'), ('vào', 'NN'), ('các', 'NN'), ('chuyên', 'NN'), ('môn', 'NN'), ('có', 'NN'), ('giá', 'NN'), ('trị', 'NN'), ('hơn', 'NN'), ('như', 'JJ'), ('sinh', 'NN'), ('học', 'NN'), (',', ','), ('giáo', 'NN'), ('dục', 'NN'), (',', ','), ('sản', 'JJ'), ('xuất', 'NNP'), ('hoặc', 'NN'), ('nông', 'NN'), ('nghiệp', 'NN'), ('.', '.'), ('Thu', 'NNP'), ('Thảo', 'NNP'), ('-', ':'), ('Lưu', 'NNP'), ('Quý', 'NNP')]\n"
     ]
    }
   ],
   "source": [
    "# Pos_tagging the paper\n",
    "data = article.text\n",
    "\n",
    "# Step 1: Tokenization\n",
    "tokenization = word_tokenize(text=data)\n",
    "\n",
    "# Pos_ tag\n",
    "result = nltk.pos_tag(tokenization)\n",
    "print(result)"
   ]
  }
 ],
 "metadata": {
  "kernelspec": {
   "display_name": "aio2024_env",
   "language": "python",
   "name": "python3"
  },
  "language_info": {
   "codemirror_mode": {
    "name": "ipython",
    "version": 3
   },
   "file_extension": ".py",
   "mimetype": "text/x-python",
   "name": "python",
   "nbconvert_exporter": "python",
   "pygments_lexer": "ipython3",
   "version": "3.10.14"
  }
 },
 "nbformat": 4,
 "nbformat_minor": 2
}
