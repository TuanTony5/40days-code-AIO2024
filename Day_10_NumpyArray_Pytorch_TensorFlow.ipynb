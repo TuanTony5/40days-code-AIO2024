{
 "cells": [
  {
   "cell_type": "code",
   "execution_count": 5,
   "metadata": {},
   "outputs": [],
   "source": [
    "import numpy as np\n",
    "\n",
    "# pip3 install torch torchvision torchaudio\n",
    "import torch\n",
    "\n",
    "#pip install tensorflow\n",
    "import tensorflow as tf\n"
   ]
  },
  {
   "cell_type": "code",
   "execution_count": 10,
   "metadata": {},
   "outputs": [
    {
     "name": "stdout",
     "output_type": "stream",
     "text": [
      "[1 3 2 4 7 4 6 4]\n",
      "tensor([1., 3., 2., 4., 7., 4., 6., 4.])\n",
      "tf.Tensor([1 3 2 4 7 4 6 4], shape=(8,), dtype=int32)\n"
     ]
    }
   ],
   "source": [
    "lst_1D = [1,3,2,4,7,4,6,4]\n",
    "print(np.array(lst_1D))\n",
    "\n",
    "print(torch.Tensor(lst_1D))\n",
    "\n",
    "print(tf.constant(lst_1D))"
   ]
  },
  {
   "cell_type": "code",
   "execution_count": 21,
   "metadata": {},
   "outputs": [
    {
     "name": "stdout",
     "output_type": "stream",
     "text": [
      "Numpy Array:\n",
      "(3, 3)\n",
      "int32\n",
      "<class 'numpy.ndarray'>\n",
      "[[1 2 3]\n",
      " [4 5 6]\n",
      " [7 8 9]]\n",
      "Pytorch Tensor\n",
      "torch.Size([3, 3])\n",
      "torch.int64\n",
      "<class 'torch.Tensor'>\n",
      "tensor([[1, 2, 3],\n",
      "        [4, 5, 6],\n",
      "        [7, 8, 9]])\n",
      "cpu\n",
      "TF Tensor\n",
      "(3, 3)\n",
      "<dtype: 'int32'>\n",
      "<class 'tensorflow.python.framework.ops.EagerTensor'>\n",
      "tf.Tensor(\n",
      "[[1 2 3]\n",
      " [4 5 6]\n",
      " [7 8 9]], shape=(3, 3), dtype=int32)\n",
      "/job:localhost/replica:0/task:0/device:CPU:0\n"
     ]
    }
   ],
   "source": [
    "lst_2D = [[1, 2, 3], [4, 5, 6], [7, 8, 9]]\n",
    "\n",
    "\n",
    "def check(data):\n",
    "    for _ in (data.shape, data.dtype, type(data), data):\n",
    "        print(_)\n",
    "\n",
    "np_ar2 = np.array(lst_2D)\n",
    "tensor_torch = torch.tensor(lst_2D)\n",
    "tf_tensor = tf.constant(lst_2D)\n",
    "\n",
    "\n",
    "print(\"Numpy Array:\")\n",
    "check(np_ar2)\n",
    "print('Pytorch Tensor')\n",
    "check(tensor_torch)\n",
    "print(tensor_torch.device)\n",
    "print('TF Tensor')\n",
    "check(tf_tensor)\n",
    "print(tf_tensor.device)"
   ]
  }
 ],
 "metadata": {
  "kernelspec": {
   "display_name": "aio2024_env",
   "language": "python",
   "name": "python3"
  },
  "language_info": {
   "codemirror_mode": {
    "name": "ipython",
    "version": 3
   },
   "file_extension": ".py",
   "mimetype": "text/x-python",
   "name": "python",
   "nbconvert_exporter": "python",
   "pygments_lexer": "ipython3",
   "version": "3.10.14"
  }
 },
 "nbformat": 4,
 "nbformat_minor": 2
}
