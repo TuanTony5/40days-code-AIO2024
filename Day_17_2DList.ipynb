{
 "cells": [
  {
   "cell_type": "code",
   "execution_count": 32,
   "metadata": {},
   "outputs": [
    {
     "data": {
      "text/plain": [
       "[[1, 3], [4, 6], [7, 9]]"
      ]
     },
     "execution_count": 32,
     "metadata": {},
     "output_type": "execute_result"
    }
   ],
   "source": [
    "lst_data = [[1, 2, 3], \n",
    "            [4, 5, 6], \n",
    "            [7, 8, 9]]\n",
    "\n",
    "\n",
    "def sub_col(lst_data, col_index):\n",
    "    lst_sub_data = []\n",
    "    for row in lst_data:\n",
    "        sub = []\n",
    "        [sub.append(row[i]) for i in col_index]\n",
    "        lst_sub_data.append(sub)\n",
    "    return lst_sub_data\n",
    "\n",
    "\n",
    "lst_sub_data = sub_col(lst_data, [0, 2])\n",
    "lst_sub_data"
   ]
  },
  {
   "cell_type": "code",
   "execution_count": 33,
   "metadata": {},
   "outputs": [
    {
     "name": "stdout",
     "output_type": "stream",
     "text": [
      "Sum A+B:\n",
      "[[3, 6, 9], [5, 8, 11], [8, 8, 10]]\n",
      "Subtraction A-B:\n",
      "[[-1, -2, -3], [3, 2, 1], [6, 8, 8]]\n",
      "Dot product A@B:\n",
      "[[7, 10, 19], [19, 31, 55], [31, 52, 91]]\n"
     ]
    }
   ],
   "source": [
    "A = [[1, 2, 3], [4, 5, 6], [7, 8, 9]]\n",
    "B = [[2, 4, 6], [1, 3, 5], [1, 0, 1]]\n",
    "\n",
    "\n",
    "def sum_subtraction(listA, listB, subtrac: bool):\n",
    "    if subtrac is True:\n",
    "        # This is subtraction A-B\n",
    "        s = -1\n",
    "    else:\n",
    "        # This is sum A+B\n",
    "        s = 1\n",
    "    tong = []\n",
    "    for r in range(3):\n",
    "        row_tong = []\n",
    "        for c in range(3):\n",
    "            tong_ij = listA[r][c] + s * listB[r][c]\n",
    "            row_tong.append(tong_ij)\n",
    "        tong.append(row_tong)\n",
    "    return tong\n",
    "\n",
    "\n",
    "def dot_product(listA, listB):\n",
    "    C = []\n",
    "    for r in range(3):\n",
    "        rowC = []\n",
    "        for c in range(3):\n",
    "            c_ij = 0\n",
    "            for k in range(3):\n",
    "                c_ij += listA[r][k] * listB[k][c]\n",
    "            rowC.append(c_ij)\n",
    "        C.append(rowC)\n",
    "    return C\n",
    "\n",
    "\n",
    "print(\"Sum A+B:\")\n",
    "print(sum_subtraction(A, B, subtrac=False))\n",
    "print(\"Subtraction A-B:\")\n",
    "print(sum_subtraction(A, B, subtrac=True))\n",
    "print(\"Dot product A@B:\")\n",
    "print(dot_product(A, B))"
   ]
  }
 ],
 "metadata": {
  "kernelspec": {
   "display_name": "aio2024_env",
   "language": "python",
   "name": "python3"
  },
  "language_info": {
   "codemirror_mode": {
    "name": "ipython",
    "version": 3
   },
   "file_extension": ".py",
   "mimetype": "text/x-python",
   "name": "python",
   "nbconvert_exporter": "python",
   "pygments_lexer": "ipython3",
   "version": "3.10.14"
  }
 },
 "nbformat": 4,
 "nbformat_minor": 2
}
