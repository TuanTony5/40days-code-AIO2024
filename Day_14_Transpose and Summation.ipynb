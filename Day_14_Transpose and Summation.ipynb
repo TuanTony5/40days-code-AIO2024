{
 "cells": [
  {
   "cell_type": "markdown",
   "metadata": {},
   "source": [
    "Câu 1: Viết chương trình tạo hai Numpy array, Pytorch tensor, Tensorflow tensor với các giá trị số\n",
    "nguyên ngẫu nhiên trong khoảng [-10, 10) với kích thước (3, 4). Sau đó chuyển vị array, tensor thứ 2\n",
    "và thực hiện phép nhân matrix multiplication. Lưu ý: sử dụng seed=2024"
   ]
  },
  {
   "cell_type": "code",
   "execution_count": 1,
   "metadata": {},
   "outputs": [],
   "source": [
    "import numpy as np\n",
    "import torch\n",
    "import tensorflow as tf\n",
    "import random"
   ]
  },
  {
   "cell_type": "code",
   "execution_count": 36,
   "metadata": {},
   "outputs": [
    {
     "name": "stdout",
     "output_type": "stream",
     "text": [
      "Matrix 1\n",
      "[[ -2 -10 -10  -6]\n",
      " [ -1  -9  -7   0]\n",
      " [ -8 -10  -5   7]]\n",
      "Matrix 2\n",
      "tensor([[  2,  -7,   3],\n",
      "        [  0, -10,   9],\n",
      "        [ -6,   0,   7],\n",
      "        [-10,   1,  -6]])\n",
      "Matrix multiplication\n",
      "\t Matrix 2 x 1: (4,4)\n",
      "[[-21  13  14   9]\n",
      " [-62   0  25  63]\n",
      " [-44 -10  25  85]\n",
      " [ 67 151 123  18]]\n",
      "\t Matrix 1 x 2: (3,3)\n",
      "[[ 116  108 -130]\n",
      " [  40   97 -133]\n",
      " [ -56  163 -191]]\n"
     ]
    }
   ],
   "source": [
    "shape = (3, 4)\n",
    "\n",
    "np.random.seed(2024)\n",
    "arr1 = np.random.randint(-10, 10, shape)\n",
    "print('Matrix 1')\n",
    "print(arr1)\n",
    "\n",
    "torch.manual_seed(seed=2024)\n",
    "arr2 = torch.randint(-10, 10, size=shape)\n",
    "\n",
    "# Transpose second matrix\n",
    "arr2 = arr2.transpose(0, 1)\n",
    "print('Matrix 2')\n",
    "print(arr2)\n",
    "\n",
    "# Matrix multiplication\n",
    "print('Matrix multiplication')\n",
    "print('\\t Matrix 2 x 1: (4,4)')\n",
    "print(np.dot(arr2,arr1))\n",
    "print('\\t Matrix 1 x 2: (3,3)')\n",
    "print(np.dot(arr1,arr2))"
   ]
  },
  {
   "cell_type": "markdown",
   "metadata": {},
   "source": [
    "Câu 2: Viết chương trình tạo một Numpy array, Pytorch tensor, Tensorflow tensor với các giá trị số\n",
    "nguyên ngẫu nhiên trong khoảng [-10, 10) với kích thước (3, 3). Sau đó hãy tính tổng của toàn bộ\n",
    "tensor, array, tiếp theo tính tổng theo chiều dọc, chiều ngang . Lưu ý: sử dụng seed=2024"
   ]
  },
  {
   "cell_type": "code",
   "execution_count": 46,
   "metadata": {},
   "outputs": [],
   "source": [
    "def sum_arr(data):\n",
    "    print(data)\n",
    "    print(f'Sum all = {data.sum()}')\n",
    "    print(f\"Sum of each column : \\n {data.sum(axis = 0,keepdims = True )}\")\n",
    "    print(f\"Sum of each row : \\n {data.sum(axis = 1,keepdims = True )}\")\n"
   ]
  },
  {
   "cell_type": "code",
   "execution_count": 50,
   "metadata": {},
   "outputs": [
    {
     "name": "stdout",
     "output_type": "stream",
     "text": [
      "Numpy Random Array\n",
      "[[ -2 -10 -10]\n",
      " [ -6  -1  -9]\n",
      " [ -7   0  -8]]\n",
      "Sum all = -53\n",
      "Sum of each column : \n",
      " [[-15 -11 -27]]\n",
      "Sum of each row : \n",
      " [[-22]\n",
      " [-16]\n",
      " [-15]]\n",
      "Pytorch Random Tensor\n",
      "tensor([[  2,   0,  -6],\n",
      "        [-10,  -7, -10],\n",
      "        [  0,   1,   3]])\n",
      "Sum all = -27\n",
      "Sum of each column : \n",
      " tensor([[ -8,  -6, -13]])\n",
      "Sum of each row : \n",
      " tensor([[ -4],\n",
      "        [-27],\n",
      "        [  4]])\n"
     ]
    }
   ],
   "source": [
    "shape2 = (3,3)\n",
    "\n",
    "print('Numpy Random Array')\n",
    "np.random.seed(2024)\n",
    "data1 = np.random.randint(-10,10,shape2)\n",
    "sum_arr(data1)\n",
    "\n",
    "print('Pytorch Random Tensor')\n",
    "torch.manual_seed(2024)\n",
    "data2 = torch.randint(-10,10,shape2)\n",
    "sum_arr(data2)"
   ]
  }
 ],
 "metadata": {
  "kernelspec": {
   "display_name": "aio2024_env",
   "language": "python",
   "name": "python3"
  },
  "language_info": {
   "codemirror_mode": {
    "name": "ipython",
    "version": 3
   },
   "file_extension": ".py",
   "mimetype": "text/x-python",
   "name": "python",
   "nbconvert_exporter": "python",
   "pygments_lexer": "ipython3",
   "version": "3.10.14"
  }
 },
 "nbformat": 4,
 "nbformat_minor": 2
}
